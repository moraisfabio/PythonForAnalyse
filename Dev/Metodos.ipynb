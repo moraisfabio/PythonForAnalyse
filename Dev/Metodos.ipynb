{
 "cells": [
  {
   "cell_type": "code",
   "execution_count": 17,
   "metadata": {},
   "outputs": [],
   "source": [
    "#criando uma classe chamada Circulo\n",
    "\n",
    "class Circulo():\n",
    "    \n",
    "    #o valor de pi e constante\n",
    "    \n",
    "    pi = 3.14\n",
    "    \n",
    "    #metodo construtor com parametros, self indica que sera para cada valor dentro do metodo\n",
    "    \n",
    "    def __init__(self,raio=5):\n",
    "        self.raio = raio\n",
    "        \n",
    "    def area(self):\n",
    "        return (self.raio * self.raio) * Circulo.pi\n",
    "    \n",
    "    #metodos sets e gets\n",
    "    def setRaio(self,novo_raio):\n",
    "        self.raio = novo_raio\n",
    "    def getRaio(self):\n",
    "        return self.raio"
   ]
  },
  {
   "cell_type": "code",
   "execution_count": 22,
   "metadata": {},
   "outputs": [],
   "source": [
    "#criando o objeto da classe Circulo\n",
    "circ = Circulo()"
   ]
  },
  {
   "cell_type": "code",
   "execution_count": 23,
   "metadata": {},
   "outputs": [
    {
     "data": {
      "text/plain": [
       "5"
      ]
     },
     "execution_count": 23,
     "metadata": {},
     "output_type": "execute_result"
    }
   ],
   "source": [
    "#chamando o metodo getRaio\n",
    "circ.getRaio()"
   ]
  },
  {
   "cell_type": "code",
   "execution_count": null,
   "metadata": {},
   "outputs": [],
   "source": []
  }
 ],
 "metadata": {
  "kernelspec": {
   "display_name": "Python 3",
   "language": "python",
   "name": "python3"
  },
  "language_info": {
   "codemirror_mode": {
    "name": "ipython",
    "version": 3
   },
   "file_extension": ".py",
   "mimetype": "text/x-python",
   "name": "python",
   "nbconvert_exporter": "python",
   "pygments_lexer": "ipython3",
   "version": "3.7.0"
  }
 },
 "nbformat": 4,
 "nbformat_minor": 2
}
